{
 "cells": [
  {
   "cell_type": "code",
   "execution_count": 5,
   "metadata": {},
   "outputs": [
    {
     "data": {
      "text/plain": [
       "[10019, 9888, 9993, 9972, 10018, 10144, 9974, 9953, 10160, 9879]"
      ]
     },
     "execution_count": 5,
     "metadata": {},
     "output_type": "execute_result"
    }
   ],
   "source": [
    "import random\n",
    "import math\n",
    "\n",
    "last_visited = [0 for _ in range(11)]\n",
    "\n",
    "for i in range(100000):\n",
    "    lst = [0 for _ in range(11)]\n",
    "    idx = 0 \n",
    "    lst[idx] = 1\n",
    "\n",
    "    while sum(lst) != 11:\n",
    "        if random.random() > 0.5:\n",
    "            idx += 1\n",
    "        if random.random() <= 0.5:\n",
    "            idx -= 1\n",
    "        \n",
    "        if idx == -1:\n",
    "            idx = 10\n",
    "        if idx == 11:\n",
    "            idx = 0\n",
    "\n",
    "        lst[idx] = 1\n",
    "        \n",
    "    last_visited[idx] += 1\n",
    "\n",
    "last_visited[1:]"
   ]
  }
 ],
 "metadata": {
  "kernelspec": {
   "display_name": "Python 3",
   "language": "python",
   "name": "python3"
  },
  "language_info": {
   "codemirror_mode": {
    "name": "ipython",
    "version": 3
   },
   "file_extension": ".py",
   "mimetype": "text/x-python",
   "name": "python",
   "nbconvert_exporter": "python",
   "pygments_lexer": "ipython3",
   "version": "3.11.4"
  },
  "orig_nbformat": 4
 },
 "nbformat": 4,
 "nbformat_minor": 2
}
