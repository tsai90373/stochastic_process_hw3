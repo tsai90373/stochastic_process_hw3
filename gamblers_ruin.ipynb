{
 "cells": [
  {
   "cell_type": "code",
   "execution_count": 29,
   "metadata": {},
   "outputs": [
    {
     "data": {
      "text/plain": [
       "0.100068"
      ]
     },
     "execution_count": 29,
     "metadata": {},
     "output_type": "execute_result"
    }
   ],
   "source": [
    "import random\n",
    "\n",
    "n = 1\n",
    "k = 9\n",
    "\n",
    "win = 0\n",
    "\n",
    "for i in range(1000000):\n",
    "    m = 1\n",
    "\n",
    "    while m != 0 and m != 1 + k:\n",
    "\n",
    "        d = random.random()\n",
    "        \n",
    "        if d >= 0.5:\n",
    "            m += 1\n",
    "        else:\n",
    "            m -= 1\n",
    "\n",
    "    \n",
    "    if m == 1 + k:\n",
    "        win += 1\n",
    "    \n",
    "win/1000000\n"
   ]
  },
  {
   "cell_type": "code",
   "execution_count": 30,
   "metadata": {},
   "outputs": [
    {
     "data": {
      "text/plain": [
       "0.33885"
      ]
     },
     "execution_count": 30,
     "metadata": {},
     "output_type": "execute_result"
    }
   ],
   "source": [
    "import random\n",
    "\n",
    "n = 1\n",
    "k = 9\n",
    "\n",
    "win = 0\n",
    "\n",
    "for i in range(1000000):\n",
    "    m = 1\n",
    "\n",
    "    while m != 0 and m != 1 + k:\n",
    "\n",
    "        d = random.random()\n",
    "        \n",
    "        if d >= 0.4:\n",
    "            m += 1\n",
    "        else:\n",
    "            m -= 1\n",
    "\n",
    "    \n",
    "    if m == 1 + k:\n",
    "        win += 1\n",
    "    \n",
    "win/1000000\n"
   ]
  },
  {
   "cell_type": "code",
   "execution_count": 31,
   "metadata": {},
   "outputs": [
    {
     "data": {
      "text/plain": [
       "0.3392158552348125"
      ]
     },
     "execution_count": 31,
     "metadata": {},
     "output_type": "execute_result"
    }
   ],
   "source": [
    "(1 - (0.4/0.6)) / ((1 - (0.4/0.6)**10))"
   ]
  }
 ],
 "metadata": {
  "kernelspec": {
   "display_name": "Python 3",
   "language": "python",
   "name": "python3"
  },
  "language_info": {
   "codemirror_mode": {
    "name": "ipython",
    "version": 3
   },
   "file_extension": ".py",
   "mimetype": "text/x-python",
   "name": "python",
   "nbconvert_exporter": "python",
   "pygments_lexer": "ipython3",
   "version": "3.11.4"
  },
  "orig_nbformat": 4
 },
 "nbformat": 4,
 "nbformat_minor": 2
}
