{
 "cells": [
  {
   "cell_type": "code",
   "execution_count": 20,
   "metadata": {},
   "outputs": [],
   "source": [
    "import numpy as np\n",
    "import pandas as pd\n",
    "\n",
    "def bm(dt):\n",
    "    mean = 0\n",
    "    dt = dt\n",
    "    std = np.sqrt(dt)\n",
    "\n",
    "    num = 0\n",
    "    lst = [0]\n",
    "\n",
    "    while num < 1 and num > -2:\n",
    "\n",
    "        num += np.random.normal(0, std)\n",
    "        lst.append(num)\n",
    "\n",
    "    return {'lst': lst, 'num': num}"
   ]
  },
  {
   "cell_type": "code",
   "execution_count": 39,
   "metadata": {},
   "outputs": [
    {
     "data": {
      "text/plain": [
       "0.6541"
      ]
     },
     "execution_count": 39,
     "metadata": {},
     "output_type": "execute_result"
    }
   ],
   "source": [
    "\n",
    "count = 0\n",
    "\n",
    "for i in range(10000):\n",
    "\n",
    "    result = bm(dt=0.01)\n",
    "\n",
    "    if result['num'] > 1:\n",
    "        count += 1\n",
    "\n",
    "count/10000"
   ]
  }
 ],
 "metadata": {
  "kernelspec": {
   "display_name": "Python 3",
   "language": "python",
   "name": "python3"
  },
  "language_info": {
   "codemirror_mode": {
    "name": "ipython",
    "version": 3
   },
   "file_extension": ".py",
   "mimetype": "text/x-python",
   "name": "python",
   "nbconvert_exporter": "python",
   "pygments_lexer": "ipython3",
   "version": "3.11.4"
  },
  "orig_nbformat": 4
 },
 "nbformat": 4,
 "nbformat_minor": 2
}
